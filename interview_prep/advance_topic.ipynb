{
 "cells": [
  {
   "cell_type": "markdown",
   "metadata": {},
   "source": [
    "# Part: 1(GeekForGeeks) Advanced Python Interview Questions & Answers"
   ]
  },
  {
   "cell_type": "markdown",
   "metadata": {},
   "source": [
    "### 42. What is PIP?\n",
    "\n",
    "`\"pip\" == \"PIP Installs Packages\"`\n",
    "- The standard package manager for Python is pip . \n",
    "- It allows you to install and manage packages that aren't part of the Python standard library\n",
    "- It is a command-line tool that can search for packages over the internet and install them without any user interaction"
   ]
  },
  {
   "cell_type": "markdown",
   "metadata": {},
   "source": [
    "### 43. What is a zip function?\n",
    "- The zip() function in Python is a built-in function that takes iterables (can be zero or more), aggregates them in a tuple, and returns an iterator of tuples. The zip() function is useful for parallel iteration over multiple sequences. details\n",
    "\n",
    "- The zip() function returns a zip object, which is an iterator of tuples where the first item in each passed iterator is paired together, and then the second item in each passed iterator are paired together etc.\n",
    "\n",
    "NOTE: If the passed iterables have different lengths, the iterable with the least items decides the length of the new iterator."
   ]
  },
  {
   "cell_type": "code",
   "execution_count": 18,
   "metadata": {},
   "outputs": [
    {
     "name": "stdout",
     "output_type": "stream",
     "text": [
      "[(1, 'a'), (2, 'b'), (3, 'c')]\n",
      "[(1, 'a'), (2, 'b')]\n",
      "Alice is 25 years old.\n",
      "Bob is 30 years old.\n",
      "Charlie is 35 years old.\n",
      "(1, 2, 3)\n",
      "('a', 'b', 'c')\n"
     ]
    }
   ],
   "source": [
    "list1 = [1, 2, 3]\n",
    "list2 = ['a', 'b', 'c']\n",
    "zipped = zip(list1, list2)\n",
    "print(list(zipped))  # Output: [(1, 'a'), (2, 'b'), (3, 'c')]\n",
    "\n",
    "# Different Lengths: When the input iterables are of different lengths, zip() stops creating pairs when the shortest iterable is exhausted.\n",
    "list1 = [1, 2, 3]\n",
    "list2 = ['a', 'b']\n",
    "zipped = zip(list1, list2)\n",
    "print(list(zipped))  # Output: [(1, 'a'), (2, 'b')]\n",
    "\n",
    "# Using with for Loop: The zip() function is commonly used in for loops to iterate over multiple sequences in parallel\n",
    "names = [\"Alice\", \"Bob\", \"Charlie\"]\n",
    "ages = [25, 30, 35]\n",
    "\n",
    "for name, age in zip(names, ages):\n",
    "    print(f\"{name} is {age} years old.\")\n",
    "\n",
    "# Unzipping:\n",
    "# we can also use zip() to unzip a list of tuples. This is done by using the * operator to unpack the list of tuples into separate arguments\n",
    "\n",
    "zipped = [(1, 'a'), (2, 'b'), (3, 'c')]\n",
    "numbers, letters = zip(*zipped)\n",
    "print(numbers)  # Output: (1, 2, 3)\n",
    "print(letters)  # Output: ('a', 'b', 'c')\n"
   ]
  },
  {
   "cell_type": "markdown",
   "metadata": {},
   "source": [
    "Combining with enumerate()\n",
    "- we can combine zip() with enumerate() to iterate over multiple sequences along with their indices.\n",
    "\n",
    "Zipping Dictionaries\n",
    "- When zipping dictionaries, only the keys are considered. If you want to zip the values, you need to use the .values() method."
   ]
  },
  {
   "cell_type": "code",
   "execution_count": 17,
   "metadata": {},
   "outputs": [
    {
     "name": "stdout",
     "output_type": "stream",
     "text": [
      "Index 0: Alice is 25 years old.\n",
      "Index 1: Bob is 30 years old.\n",
      "Index 2: Charlie is 35 years old.\n",
      "------------------------------------------------------------------------------------------------------------------------------------------------------\n",
      "[('a', 'c'), ('b', 'd')]\n",
      "[(1, 3), (2, 4)]\n"
     ]
    }
   ],
   "source": [
    "names = [\"Alice\", \"Bob\", \"Charlie\"]\n",
    "ages = [25, 30, 35]\n",
    "\n",
    "for i, (name, age) in enumerate(zip(names, ages)):\n",
    "    print(f\"Index {i}: {name} is {age} years old.\")\n",
    "\n",
    "print(\"-\"* 150) \n",
    "   \n",
    "dict1 = {'a': 1, 'b': 2}\n",
    "dict2 = {'c': 3, 'd': 4}\n",
    "\n",
    "# Zipping keys\n",
    "print(list(zip(dict1, dict2)))  # Output: [('a', 'c'), ('b', 'd')]\n",
    "\n",
    "# Zipping values\n",
    "print(list(zip(dict1.values(), dict2.values())))  # Output: [(1, 3), (2, 4)]\n",
    "\n"
   ]
  },
  {
   "cell_type": "markdown",
   "metadata": {},
   "source": [
    "### 44. What are Pickling and Unpickling?\n",
    "The Pickle module accepts any Python object and converts it into a string representation and dumps it into a file by using the dump function, this process is called pickling. While the process of retrieving original Python objects from the stored string representation is called unpickling."
   ]
  },
  {
   "cell_type": "markdown",
   "metadata": {},
   "source": [
    "### 45. What is monkey patching in Python?\n",
    "In Python, the term monkey patch only refers to dynamic modifications of a class or module at run-time."
   ]
  },
  {
   "cell_type": "code",
   "execution_count": 19,
   "metadata": {},
   "outputs": [
    {
     "name": "stdout",
     "output_type": "stream",
     "text": [
      "Original method\n",
      "Modified method\n"
     ]
    }
   ],
   "source": [
    "class MyClass:\n",
    "    def method(self):\n",
    "        print(\"Original method\")\n",
    "\n",
    "# Creating an instance\n",
    "obj = MyClass()\n",
    "obj.method()  # Output: Original method\n",
    "\n",
    "# Monkey patching the method\n",
    "def new_method(self):\n",
    "    print(\"Modified method\")\n",
    "\n",
    "MyClass.method = new_method\n",
    "\n",
    "# Creating another instance\n",
    "obj2 = MyClass()\n",
    "obj2.method()  # Output: Modified method"
   ]
  },
  {
   "cell_type": "markdown",
   "metadata": {},
   "source": [
    "### 46. What is __init__() in Python?\n",
    "- called in class to allocate memory for the new object is created\n",
    "\n",
    "Equivalent to constructors in OOP terminology, __init__ is a reserved method in Python classes. The __init__ method is called automatically whenever a new object is initiated. This method allocates memory to the new object as soon as it is created. This method can also be used to initialize variables."
   ]
  },
  {
   "cell_type": "markdown",
   "metadata": {},
   "source": [
    "### 47. Write a code to display the current time?"
   ]
  },
  {
   "cell_type": "code",
   "execution_count": 26,
   "metadata": {},
   "outputs": [
    {
     "name": "stdout",
     "output_type": "stream",
     "text": [
      "time.struct_time(tm_year=2024, tm_mon=6, tm_mday=27, tm_hour=11, tm_min=43, tm_sec=22, tm_wday=3, tm_yday=179, tm_isdst=0)\n"
     ]
    },
    {
     "data": {
      "text/plain": [
       "datetime.datetime(2024, 6, 27, 11, 43, 22, 260939)"
      ]
     },
     "execution_count": 26,
     "metadata": {},
     "output_type": "execute_result"
    }
   ],
   "source": [
    "import time\n",
    "print(time.localtime(time.time()))\n",
    "\n",
    "from datetime import datetime\n",
    "datetime.now()"
   ]
  },
  {
   "cell_type": "markdown",
   "metadata": {},
   "source": [
    "### 48. What are Access Specifiers in Python?\n",
    "- Public Access Modifier:\n",
    "- Protected Access Modifier: starts with `_`\n",
    "- Private Access Modifier: starts with `__`"
   ]
  },
  {
   "cell_type": "markdown",
   "metadata": {},
   "source": [
    "### 49. What are unit tests in Python?\n",
    "Unit Testing is the first level of software testing where the smallest testable parts of the software are tested. This is used to validate that each unit of the software performs as designed. The unit test framework is Python’s xUnit style framework. The White Box Testing method is used for Unit testing."
   ]
  },
  {
   "cell_type": "markdown",
   "metadata": {},
   "source": [
    "### 50. Python Global Interpreter Lock (GIL)?\n",
    "is a type of process lock that is used by Python whenever it deals with processes. Generally, Python only uses only one thread to execute the set of written statements. The performance of the single-threaded process and the multi-threaded process will be the same in Python and this is because of GIL in Python. We can not achieve multithreading in Python because we have a global interpreter lock that restricts the threads and works as a single thread."
   ]
  },
  {
   "cell_type": "markdown",
   "metadata": {},
   "source": [
    "### 51. What are Function Annotations in Python?\n",
    "Function annotations in Python are a way to attach metadata to function arguments and return values\n",
    "```\n",
    "def function_name(parameter_name: annotation) -> return_annotation:\n",
    "    pass\n",
    "\n",
    "```"
   ]
  },
  {
   "cell_type": "markdown",
   "metadata": {},
   "source": [
    "### 52. What are Exception Groups in Python?\n",
    "ExceptionGroup is a collection/group of different kinds of Exception. Without creating Multiple Exceptions we can group together different Exceptions which we can later fetch one by one whenever necessary, the order in which the Exceptions are stored in the Exception Group doesn’t matter while calling them"
   ]
  },
  {
   "cell_type": "markdown",
   "metadata": {},
   "source": [
    "### 53. What is Python Switch Statement\n",
    "Python has implemented a switch case feature called “structural pattern matching”. You can implement this feature with the match and case keywords. Note that the underscore symbol is what you use to define a default case for the switch statement in Python."
   ]
  },
  {
   "cell_type": "code",
   "execution_count": 30,
   "metadata": {},
   "outputs": [
    {
     "name": "stdout",
     "output_type": "stream",
     "text": [
      "First element: 1, Rest: [2, 3, 4]\n",
      "Dictionary with key 'key' and value > 10: 15\n",
      "Empty list\n"
     ]
    }
   ],
   "source": [
    "def process_data(data):\n",
    "    match data:\n",
    "        case []:\n",
    "            print(\"Empty list\")\n",
    "        case [first, *rest]:\n",
    "            print(f\"First element: {first}, Rest: {rest}\")\n",
    "        case {'key': value} if value > 10:\n",
    "            print(f\"Dictionary with key 'key' and value > 10: {value}\")\n",
    "        case _:\n",
    "            print(\"Other cases\")\n",
    "\n",
    "data_list = [1, 2, 3, 4]\n",
    "data_dict = {'key': 15}\n",
    "empty_list = []\n",
    "\n",
    "process_data(data_list)  # Outputs: First element: 1, Rest: [2, 3, 4]\n",
    "process_data(data_dict)  # Outputs: Dictionary with key 'key' and value > 10: 15\n",
    "process_data(empty_list) # Outputs: Empty list\n"
   ]
  },
  {
   "cell_type": "markdown",
   "metadata": {},
   "source": [
    "### 54. What is Walrus Operator?\n",
    "The Walrus Operator allows you to assign a value to a variable within an expression. This can be useful when you need to use a value multiple times in a loop, but don’t want to repeat the calculation."
   ]
  },
  {
   "cell_type": "code",
   "execution_count": 31,
   "metadata": {},
   "outputs": [
    {
     "name": "stdout",
     "output_type": "stream",
     "text": [
      "Name not found.\n"
     ]
    }
   ],
   "source": [
    "names = [\"Jacob\", \"Joe\", \"Jim\"]\n",
    "\n",
    "if (name := input(\"Enter a name: \")) in names:\n",
    "    print(f\"Hello, {name}!\")\n",
    "else:\n",
    "    print(\"Name not found.\")\n"
   ]
  },
  {
   "cell_type": "markdown",
   "metadata": {},
   "source": [
    "### helpful pages:\n",
    "- https://www.edureka.co/blog/interview-questions/python-interview-questions/"
   ]
  },
  {
   "cell_type": "markdown",
   "metadata": {},
   "source": []
  }
 ],
 "metadata": {
  "kernelspec": {
   "display_name": "env",
   "language": "python",
   "name": "python3"
  },
  "language_info": {
   "codemirror_mode": {
    "name": "ipython",
    "version": 3
   },
   "file_extension": ".py",
   "mimetype": "text/x-python",
   "name": "python",
   "nbconvert_exporter": "python",
   "pygments_lexer": "ipython3",
   "version": "3.12.3"
  }
 },
 "nbformat": 4,
 "nbformat_minor": 2
}
