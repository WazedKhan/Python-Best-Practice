{
 "cells": [
  {
   "cell_type": "markdown",
   "metadata": {},
   "source": [
    "### Class and Object:"
   ]
  },
  {
   "cell_type": "code",
   "execution_count": 1,
   "metadata": {},
   "outputs": [
    {
     "data": {
      "text/plain": [
       "'Snowy is barking'"
      ]
     },
     "execution_count": 1,
     "metadata": {},
     "output_type": "execute_result"
    }
   ],
   "source": [
    "class Dog:\n",
    "    def __init__(self, name, age) -> None:\n",
    "        self.name = name\n",
    "        self.age = age\n",
    "    \n",
    "    def bark(self):\n",
    "        return f\"{self.name} is barking\"\n",
    "    \n",
    "dog = Dog(\"Snowy\", 3)\n",
    "dog.bark()"
   ]
  },
  {
   "cell_type": "markdown",
   "metadata": {},
   "source": [
    "### Inheritance:"
   ]
  },
  {
   "cell_type": "code",
   "execution_count": 2,
   "metadata": {},
   "outputs": [
    {
     "name": "stdout",
     "output_type": "stream",
     "text": [
      "Buddy is barking\n",
      "Whiskers says Meow!\n"
     ]
    }
   ],
   "source": [
    "class Animal:\n",
    "    def __init__(self, name) -> None:\n",
    "        self.name = name\n",
    "    \n",
    "    def speak(self):\n",
    "        raise NotImplementedError(\"sub class must be implemented for this method\")\n",
    "    \n",
    "\n",
    "class Dog(Animal):\n",
    "    def speak(self):\n",
    "        return f\"{self.name} is barking\"\n",
    "    \n",
    "class Cat(Animal):\n",
    "    def speak(self):\n",
    "        return f\"{self.name} says Meow!\"\n",
    "\n",
    "dog = Dog(\"Buddy\")\n",
    "cat = Cat(\"Whiskers\")\n",
    "print(dog.speak())  # Output: Buddy says Woof!\n",
    "print(cat.speak())  # Output: Whiskers says Meow!"
   ]
  },
  {
   "cell_type": "markdown",
   "metadata": {},
   "source": [
    "### Encapsulation:\n",
    "* bundling data or method that operates on data into a single unit\n",
    "* to apply restriction on direct access on some of the object's component directly to prevent accidental modification on data"
   ]
  },
  {
   "cell_type": "code",
   "execution_count": 3,
   "metadata": {},
   "outputs": [
    {
     "name": "stdout",
     "output_type": "stream",
     "text": [
      "60\n"
     ]
    }
   ],
   "source": [
    "class Car:\n",
    "    def __init__(self) -> None:\n",
    "        self.__speed = 0\n",
    "        \n",
    "    def set_speed(self, speed):\n",
    "        self.__speed = speed\n",
    "        \n",
    "    def get_speed(self):\n",
    "        return self.__speed\n",
    "        \n",
    "my_car = Car()\n",
    "my_car.set_speed(60)\n",
    "print(my_car.get_speed())  # Output: 60"
   ]
  },
  {
   "cell_type": "code",
   "execution_count": 15,
   "metadata": {},
   "outputs": [
    {
     "name": "stdout",
     "output_type": "stream",
     "text": [
      "5\n",
      "3\n"
     ]
    },
    {
     "ename": "AttributeError",
     "evalue": "'Rectangle' object has no attribute 'length'",
     "output_type": "error",
     "traceback": [
      "\u001b[1;31m---------------------------------------------------------------------------\u001b[0m",
      "\u001b[1;31mAttributeError\u001b[0m                            Traceback (most recent call last)",
      "Cell \u001b[1;32mIn[15], line 15\u001b[0m\n\u001b[0;32m     13\u001b[0m rect \u001b[38;5;241m=\u001b[39m Rectangle() \u001b[38;5;66;03m#object created \u001b[39;00m\n\u001b[0;32m     14\u001b[0m \u001b[38;5;66;03m#printing values of the private variable outside the class \u001b[39;00m\n\u001b[1;32m---> 15\u001b[0m \u001b[38;5;28mprint\u001b[39m(\u001b[43mrect\u001b[49m\u001b[38;5;241;43m.\u001b[39;49m\u001b[43mlength\u001b[49m)\n\u001b[0;32m     16\u001b[0m \u001b[38;5;28mprint\u001b[39m(rect\u001b[38;5;241m.\u001b[39mbreadth)\n",
      "\u001b[1;31mAttributeError\u001b[0m: 'Rectangle' object has no attribute 'length'"
     ]
    }
   ],
   "source": [
    "# illustrating private members & private access modifier \n",
    "class Rectangle:\n",
    "  __length = 0 #private variable\n",
    "  __breadth = 0#private variable\n",
    "  def __init__(self): \n",
    "    #constructor\n",
    "    self.__length = 5\n",
    "    self.__breadth = 3\n",
    "    #printing values of the private variable within the class\n",
    "    print(self.__length)\n",
    "    print(self.__breadth)\n",
    " \n",
    "rect = Rectangle() #object created \n",
    "#printing values of the private variable outside the class \n",
    "print(rect.length)\n",
    "print(rect.breadth)"
   ]
  },
  {
   "cell_type": "code",
   "execution_count": 16,
   "metadata": {},
   "outputs": [
    {
     "name": "stdout",
     "output_type": "stream",
     "text": [
      "Jason\n",
      "35\n",
      "Developer\n"
     ]
    }
   ],
   "source": [
    "# illustrating protected members & protected access modifier \n",
    "class details:\n",
    "    _name=\"Jason\"\n",
    "    _age=35\n",
    "    _job=\"Developer\"\n",
    "class pro_mod(details):\n",
    "    def __init__(self):\n",
    "        print(self._name)\n",
    "        print(self._age)\n",
    "        print(self._job)\n",
    " \n",
    "# creating object of the class \n",
    "obj = pro_mod()"
   ]
  },
  {
   "cell_type": "code",
   "execution_count": 17,
   "metadata": {},
   "outputs": [
    {
     "name": "stdout",
     "output_type": "stream",
     "text": [
      "Jason\n",
      "35\n",
      "Developer\n",
      "Name: Jason\n",
      "Age: 35\n"
     ]
    }
   ],
   "source": [
    "class details:\n",
    "    _name=\"Jason\"\n",
    "    _age=35\n",
    "    _job=\"Developer\"\n",
    "class pro_mod(details):\n",
    "    def __init__(self):\n",
    "        print(self._name)\n",
    "        print(self._age)\n",
    "        print(self._job)\n",
    " \n",
    "# creating object of the class \n",
    "obj = pro_mod()\n",
    "# direct access of protected member\n",
    "print(\"Name:\",obj._name)\n",
    "print(\"Age:\",obj._age)"
   ]
  },
  {
   "cell_type": "markdown",
   "metadata": {},
   "source": [
    "### Polymorphism:\n",
    "* The ability to use a common interface for multiple forms (data types)."
   ]
  },
  {
   "cell_type": "code",
   "execution_count": 4,
   "metadata": {},
   "outputs": [
    {
     "name": "stdout",
     "output_type": "stream",
     "text": [
      "Bird is flying\n",
      "Airplane is flying\n"
     ]
    }
   ],
   "source": [
    "class Bird:\n",
    "    def fly(self):\n",
    "        print(\"Bird is flying\")\n",
    "\n",
    "class Airplane:\n",
    "    def fly(self):\n",
    "        print(\"Airplane is flying\")\n",
    "\n",
    "def let_it_fly(flying_object):\n",
    "    flying_object.fly()\n",
    "\n",
    "bird = Bird()\n",
    "airplane = Airplane()\n",
    "let_it_fly(bird)       # Output: Bird is flying\n",
    "let_it_fly(airplane)   # Output: Airplane is flying"
   ]
  },
  {
   "cell_type": "code",
   "execution_count": 5,
   "metadata": {},
   "outputs": [],
   "source": [
    "class Shape:\n",
    "    def calculate_area(self):\n",
    "        pass"
   ]
  },
  {
   "cell_type": "code",
   "execution_count": 6,
   "metadata": {},
   "outputs": [
    {
     "name": "stdout",
     "output_type": "stream",
     "text": [
      "78.53999999999999\n",
      "12.0\n",
      "area of rectangle is: 21\n"
     ]
    }
   ],
   "source": [
    "class Circle(Shape):\n",
    "    def __init__(self, radius) -> None:\n",
    "        self.radius = radius\n",
    "        \n",
    "    def calculate_area(self):\n",
    "        return 3.1416 * (self.radius * self.radius)\n",
    "\n",
    "\n",
    "class Triangle(Shape):\n",
    "    def __init__(self, base, height):\n",
    "        self.base = base\n",
    "        self.height = height\n",
    "        \n",
    "    def calculate_area(self):\n",
    "        return 0.5 * self.base * self.height\n",
    "\n",
    "\n",
    "class Rectangle(Shape):\n",
    "    def __init__(self, length, width):\n",
    "        self.length = length\n",
    "        self.width = width\n",
    "    \n",
    "    def calculate_area(self):\n",
    "        return f\"area of rectangle is: {self.length * self.width}\"\n",
    "    \n",
    "    \n",
    "shapes = [Circle(5), Triangle(4, 6), Rectangle(3, 7)]\n",
    "\n",
    "for shape in shapes:\n",
    "    print(shape.calculate_area())"
   ]
  },
  {
   "cell_type": "markdown",
   "metadata": {},
   "source": [
    "Type of Polymorphism"
   ]
  },
  {
   "cell_type": "code",
   "execution_count": 7,
   "metadata": {},
   "outputs": [],
   "source": [
    "# Ad hoc Polymorphism / function overloading or method overloading:\n",
    "class Calculator:\n",
    "    def add(self, a, b):\n",
    "        return a + b\n",
    "\n",
    "    def add(self, a, b, c):\n",
    "        return a + b + c\n",
    "\n",
    "    def add(self, a, b, c, d):\n",
    "        return a + b + c + d"
   ]
  },
  {
   "cell_type": "code",
   "execution_count": 14,
   "metadata": {},
   "outputs": [
    {
     "name": "stdout",
     "output_type": "stream",
     "text": [
      "2\n",
      "world\n",
      "1\n",
      "a\n",
      "a\n",
      "b\n",
      "c\n"
     ]
    }
   ],
   "source": [
    "# Parametric Polymorphism:\n",
    "\n",
    "from typing import TypeVar, Generic, List\n",
    "\n",
    "T = TypeVar('T')\n",
    "\n",
    "class Stack(Generic[T]):\n",
    "    def __init__(self):\n",
    "        self.items: List[T] = []\n",
    "\n",
    "    def push(self, item: T):\n",
    "        self.items.append(item)\n",
    "\n",
    "    def pop(self) -> T:\n",
    "        return self.items.pop()\n",
    "\n",
    "    def is_empty(self) -> bool:\n",
    "        return not self.items\n",
    "\n",
    "# Using the generic Stack class with different types\n",
    "int_stack = Stack[int]()\n",
    "int_stack.push(1)\n",
    "int_stack.push(2)\n",
    "print(int_stack.pop())  # Output: 2\n",
    "\n",
    "str_stack = Stack[str]()\n",
    "str_stack.push(\"hello\")\n",
    "str_stack.push(\"world\")\n",
    "print(str_stack.pop())  # Output: world\n",
    "\n",
    "from typing import TypeVar, List\n",
    "\n",
    "T = TypeVar('T')\n",
    "\n",
    "def get_first_element(elements: List[T]) -> T:\n",
    "    return elements[0]\n",
    "\n",
    "def print_items(elements: List[T]) -> T:\n",
    "    for i in elements:\n",
    "        print(i)\n",
    "\n",
    "# Using the generic function with different types\n",
    "print(get_first_element([1, 2, 3]))         # Output: 1\n",
    "print(get_first_element([\"a\", \"b\", \"c\"]))   # Output: a\n",
    "print_items([\"a\", \"b\", \"c\"])\n"
   ]
  },
  {
   "cell_type": "markdown",
   "metadata": {},
   "source": [
    "### Abstraction: A class containing one or more than one abstract method is called an abstract class.\n",
    "* Hiding the complex implementation details and showing only the essential features of the object.\n",
    "\n",
    "Good Resource: https://www.scaler.com/topics/abstract-class-in-python/\n",
    "\n",
    "How to declare abstract method:\n",
    "```\n",
    "from abc import ABC\n",
    "class <Abstract_Class_Name>(ABC):\n",
    "\t# body of the class\n",
    "```"
   ]
  },
  {
   "cell_type": "code",
   "execution_count": 9,
   "metadata": {},
   "outputs": [
    {
     "data": {
      "text/plain": [
       "60"
      ]
     },
     "execution_count": 9,
     "metadata": {},
     "output_type": "execute_result"
    }
   ],
   "source": [
    "\"\"\"\n",
    "We cannot create an abstract class in Python directly.\n",
    "However, Python does provide a module that allows us to define abstract classes.\n",
    "The module we can use to create an abstract class in Python is abc(abstract base class) module.\n",
    "\"\"\"\n",
    "from abc import ABC, abstractmethod\n",
    "\n",
    "class Shape(ABC):\n",
    "    @abstractmethod\n",
    "    def area(self):\n",
    "        \"\"\"\n",
    "        we don't which type of share we will be working with\n",
    "        and so we don't which formula will be required to calculate area\n",
    "        but we do know we will need to calculate area of shape\n",
    "        \"\"\"\n",
    "        pass\n",
    "\n",
    "class Rectangle(Shape):\n",
    "    def __init__(self, width, height) -> None:\n",
    "        self.width = width\n",
    "        self.height = height\n",
    "    \n",
    "    def area(self):\n",
    "        \"\"\"\n",
    "        here we are overriding the area method that is declared in Shape class\n",
    "        as now we know how we need to calculate area as we know we working with shape rectangle\n",
    "        \"\"\"\n",
    "        area = self.height * self.width\n",
    "        return area\n",
    "    \n",
    "    def perimeter(self):\n",
    "        return 2 * (self.width * self.height)\n",
    "    \n",
    "rectangle = Rectangle(width=12, height=5)\n",
    "rectangle.area()\n",
    "\n"
   ]
  },
  {
   "cell_type": "code",
   "execution_count": 10,
   "metadata": {},
   "outputs": [
    {
     "name": "stdout",
     "output_type": "stream",
     "text": [
      "Drawing a circle\n",
      "Drawing a Triangle\n"
     ]
    }
   ],
   "source": [
    "# abstract from scalar\n",
    "from abc import ABC, abstractmethod\n",
    " \n",
    "class Shape(ABC):\n",
    "    def __init__(self, shape_name):\n",
    "        self.shape_name = shape_name\n",
    "    \n",
    "    @abstractmethod\n",
    "    def draw(self):\n",
    "        pass\n",
    "    \n",
    "    \n",
    "    \n",
    "class Circle(Shape):\n",
    "    def __init__(self):\n",
    "        super().__init__(\"circle\")\n",
    "        \n",
    "    def draw(self):\n",
    "        print(\"Drawing a circle\")\n",
    "    \n",
    "    # def draw_circle(self):\n",
    "    #     print(\"drawing circle\")\n",
    "    \n",
    "    # if dont implement abstract method in child class it will give us error\n",
    "    # thus we can ensure that our subclasses use the same structure and same method names for similar tasks\n",
    "    # Also, by using the abstract classes, we can hide unnecessary details from the user and reduce the programming complexity to a great extent.\n",
    "\n",
    "\n",
    "class Triangle(Shape):\n",
    "\n",
    "    def __init__(self):\n",
    "        super().__init__(\"triangle\")\n",
    "\n",
    "    def draw(self):\n",
    "        print(\"Drawing a Triangle\")\n",
    "    \n",
    "circle = Circle()\n",
    "circle.draw()\n",
    "triangle = Triangle()\n",
    "triangle.draw()"
   ]
  },
  {
   "cell_type": "code",
   "execution_count": 11,
   "metadata": {},
   "outputs": [
    {
     "name": "stdout",
     "output_type": "stream",
     "text": [
      "Drawing a circle\n",
      "circle\n"
     ]
    }
   ],
   "source": [
    "# abstract from scalar\n",
    "from abc import ABC, abstractmethod, abstractproperty\n",
    " \n",
    "class Shape(ABC):\n",
    "    def __init__(self, shape_name):\n",
    "        self.shape_name = shape_name\n",
    "    \n",
    "    @abstractmethod\n",
    "    def draw(self):\n",
    "        pass\n",
    "    \n",
    "    def print_name(self):\n",
    "        print(self.shape_name)\n",
    "    \n",
    "    @abstractproperty\n",
    "    def name(self):\n",
    "        pass\n",
    "    \n",
    "    \n",
    "class Circle(Shape):\n",
    "    def __init__(self):\n",
    "        super().__init__(\"circle\")\n",
    "        \n",
    "    @property\n",
    "    def name(self):\n",
    "        return self.shape_name\n",
    "        \n",
    "    def draw(self):\n",
    "        print(\"Drawing a circle\")\n",
    "    \n",
    "    # def draw_circle(self):\n",
    "    #     print(\"drawing circle\")\n",
    "    \n",
    "    # if dont implement abstract method in child class it will give us error\n",
    "    # thus we can ensure that our subclasses use the same structure and same method names for similar tasks\n",
    "    # Also, by using the abstract classes, we can hide unnecessary details from the user and reduce the programming complexity to a great extent.\n",
    "\n",
    "    \n",
    "circle = Circle()\n",
    "circle.draw()\n",
    "circle.name\n",
    "circle.print_name()\n"
   ]
  }
 ],
 "metadata": {
  "kernelspec": {
   "display_name": "env",
   "language": "python",
   "name": "python3"
  },
  "language_info": {
   "codemirror_mode": {
    "name": "ipython",
    "version": 3
   },
   "file_extension": ".py",
   "mimetype": "text/x-python",
   "name": "python",
   "nbconvert_exporter": "python",
   "pygments_lexer": "ipython3",
   "version": "3.12.3"
  }
 },
 "nbformat": 4,
 "nbformat_minor": 2
}
